{
  "nbformat": 4,
  "nbformat_minor": 0,
  "metadata": {
    "colab": {
      "provenance": []
    },
    "kernelspec": {
      "name": "python3",
      "display_name": "Python 3"
    },
    "language_info": {
      "name": "python"
    }
  },
  "cells": [
    {
      "cell_type": "code",
      "execution_count": 10,
      "metadata": {
        "colab": {
          "base_uri": "https://localhost:8080/"
        },
        "id": "On4YV2chMjNQ",
        "outputId": "36d9d377-15f7-45ac-e172-d8d6add018dc"
      },
      "outputs": [
        {
          "output_type": "stream",
          "name": "stdout",
          "text": [
            "enter one number3\n",
            "enter two number4\n",
            "enter 1 for addition:\n",
            "enter 2 for subtraction:\n",
            "enter 3 for multiplication:\n",
            "enter 4 for division:\n",
            "enter 5 for modulus\n",
            "enter choice1\n",
            "7\n"
          ]
        }
      ],
      "source": [
        "#Basic Calculator\n",
        "a = int(input(\"enter one number\"))\n",
        "b = int(input(\"enter two number\"))\n",
        "print(\"enter 1 for addition:\")\n",
        "print(\"enter 2 for subtraction:\")\n",
        "print(\"enter 3 for multiplication:\")\n",
        "print(\"enter 4 for division:\")\n",
        "print(\"enter 5 for modulus\")\n",
        "ch =input(\"enter choice\")\n",
        "if ch == '1':\n",
        "    print(a+b)\n",
        "elif ch == '2':\n",
        "    print(a-b)\n",
        "elif ch == '3':\n",
        "    print(a*b)\n",
        "elif ch == '4':\n",
        "    print(a/b)\n",
        "elif ch == '5':\n",
        "  print(a%b)\n",
        "else:\n",
        "  print(\"Invalid\")\n",
        "\n",
        "\n"
      ]
    }
  ]
}